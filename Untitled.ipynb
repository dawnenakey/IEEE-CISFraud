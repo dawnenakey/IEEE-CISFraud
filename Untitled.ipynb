{
 "cells": [
  {
   "cell_type": "code",
   "execution_count": 1,
   "id": "297ac0fd-30b2-4b95-bbf3-d2cb7c75b525",
   "metadata": {},
   "outputs": [
    {
     "ename": "ModuleNotFoundError",
     "evalue": "No module named 'docx'",
     "output_type": "error",
     "traceback": [
      "\u001b[0;31m---------------------------------------------------------------------------\u001b[0m",
      "\u001b[0;31mModuleNotFoundError\u001b[0m                       Traceback (most recent call last)",
      "Cell \u001b[0;32mIn[1], line 1\u001b[0m\n\u001b[0;32m----> 1\u001b[0m \u001b[38;5;28;01mfrom\u001b[39;00m\u001b[38;5;250m \u001b[39m\u001b[38;5;21;01mdocx\u001b[39;00m\u001b[38;5;250m \u001b[39m\u001b[38;5;28;01mimport\u001b[39;00m Document\n\u001b[1;32m      3\u001b[0m \u001b[38;5;66;03m# Create a new Word document for the presentation outline\u001b[39;00m\n\u001b[1;32m      4\u001b[0m doc \u001b[38;5;241m=\u001b[39m Document()\n",
      "\u001b[0;31mModuleNotFoundError\u001b[0m: No module named 'docx'"
     ]
    }
   ],
   "source": [
    "from docx import Document\n",
    "\n",
    "# Create a new Word document for the presentation outline\n",
    "doc = Document()\n",
    "\n",
    "# Add title\n",
    "doc.add_heading('Presentation Outline: IEEE-CIS Fraud Detection Using Genetic Algorithms', level=1)\n",
    "\n",
    "# Introduction\n",
    "doc.add_heading('1. Introduction', level=2)\n",
    "doc.add_paragraph(\"• Overview of the IEEE-CIS Fraud Detection problem.\\n\"\n",
    "                  \"• Importance of feature selection in fraud detection.\\n\"\n",
    "                  \"• Introduction to Genetic Algorithms (GA) for feature selection.\\n\")\n",
    "\n",
    "# Data Preprocessing\n",
    "doc.add_heading('2. Data Preprocessing', level=2)\n",
    "doc.add_paragraph(\"• Dataset Source: IEEE-CIS Fraud Detection from Kaggle.\\n\"\n",
    "                  \"• Key data preprocessing steps:\\n\"\n",
    "                  \"   - Handling missing values.\\n\"\n",
    "                  \"   - Encoding categorical features.\\n\"\n",
    "                  \"   - Feature scaling and normalization.\\n\"\n",
    "                  \"• Generated `processed_data.csv` after preprocessing.\\n\")\n",
    "\n",
    "# Genetic Algorithm for Feature Selection\n",
    "doc.add_heading('3. Genetic Algorithm for Feature Selection', level=2)\n",
    "doc.add_paragraph(\"• How Genetic Algorithms work for feature selection.\\n\"\n",
    "                  \"• Steps involved in GA:\\n\"\n",
    "                  \"   - Population initialization.\\n\"\n",
    "                  \"   - Fitness function evaluation.\\n\"\n",
    "                  \"   - Selection, Crossover, and Mutation.\\n\"\n",
    "                  \"• Running GA and saving `selected_features.txt`.\\n\")\n",
    "\n",
    "# Results & Visualization\n",
    "doc.add_heading('4. Results & Visualization', level=2)\n",
    "doc.add_paragraph(\"• Sample of `processed_data.csv` for reference.\\n\"\n",
    "                  \"• Displaying selected feature indices (`selected_features.txt`).\\n\"\n",
    "                  \"• Fraud vs Non-Fraud Transactions Distribution (Visualization).\\n\"\n",
    "                  \"• Summary of selected features and their impact.\\n\")\n",
    "\n",
    "# Future Work & Conclusion\n",
    "doc.add_heading('5. Future Work & Conclusion', level=2)\n",
    "doc.add_paragraph(\"• Potential improvements in feature selection using GA.\\n\"\n",
    "                  \"• Exploring other feature selection methods.\\n\"\n",
    "                  \"• Integrating GA-selected features into machine learning models.\\n\"\n",
    "                  \"• Summary of key takeaways from the project.\\n\")\n",
    "\n",
    "# Save the Word document\n",
    "word_outline_path = \"IEEE_CIS_Fraud_Presentation_Outline.docx\"\n",
    "doc.save(word_outline_path)\n",
    "\n",
    "# Provide the Word document to the user\n",
    "import ace_tools as tools\n",
    "tools.display_file_to_user(word_outline_path)"
   ]
  },
  {
   "cell_type": "code",
   "execution_count": null,
   "id": "e7e991f5-4990-409c-811b-2b27247c10c9",
   "metadata": {},
   "outputs": [],
   "source": []
  }
 ],
 "metadata": {
  "kernelspec": {
   "display_name": "Python (venv)",
   "language": "python",
   "name": "venv"
  },
  "language_info": {
   "codemirror_mode": {
    "name": "ipython",
    "version": 3
   },
   "file_extension": ".py",
   "mimetype": "text/x-python",
   "name": "python",
   "nbconvert_exporter": "python",
   "pygments_lexer": "ipython3",
   "version": "3.13.1"
  }
 },
 "nbformat": 4,
 "nbformat_minor": 5
}
