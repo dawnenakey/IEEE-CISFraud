import pandas as pd
import numpy as np
import matplotlib.pyplot as plt
import seaborn as sns
from sklearn.model_selection import train_test_split
from sklearn.preprocessing import StandardScaler
from imblearn.over_sampling import SMOTE

df = pd.read_csv("data/train_transaction.csv")


df.info()
df.head()

# 3️⃣ Data Cleaning & Preprocessing
# Drop columns with more than 50% missing values
df = df.dropna(thresh=len(df) * 0.5, axis=1)

# Encode categorical variables
df = pd.get_dummies(df, drop_first=True)

# Fill remaining NaNs with mean
df.fillna(df.mean(), inplace=True)

# Separate features and target variable
X = df.drop(columns=["isFraud"])
y = df["isFraud"]

# 4️⃣ Apply SMOTE for Balancing Fraud Cases
X_train, X_test, y_train, y_test = train_test_split(X, y, test_size=0.2, random_state=42)

# Apply SMOTE to oversample fraud cases
smote = SMOTE(random_state=42)
X_train_resampled, y_train_resampled = smote.fit_resample(X_train, y_train)

# Show distribution after SMOTE
print(f"✅ Resampled Training Data: {X_train_resampled.shape}, {y_train_resampled.shape}")

# 5️⃣ Save Processed Data
processed_data = pd.DataFrame(X_train_resampled, columns=X.columns)
processed_data["isFraud"] = y_train_resampled
processed_data.to_csv("data/processed_data.csv", index=False)

print("✅ Data Preprocessing Complete. File saved at 'data/processed_data.csv'")
